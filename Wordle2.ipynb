{
 "cells": [
  {
   "cell_type": "code",
   "execution_count": 1,
   "id": "73534d0f",
   "metadata": {},
   "outputs": [
    {
     "name": "stdout",
     "output_type": "stream",
     "text": [
      "Requirement already satisfied: emoji in /Users/timdavies/opt/anaconda3/lib/python3.9/site-packages (1.7.0)\n",
      "Note: you may need to restart the kernel to use updated packages.\n"
     ]
    }
   ],
   "source": [
    "pip install emoji --upgrade"
   ]
  },
  {
   "cell_type": "code",
   "execution_count": 2,
   "id": "b2c35035",
   "metadata": {},
   "outputs": [],
   "source": [
    "import random\n",
    "import emoji"
   ]
  },
  {
   "cell_type": "code",
   "execution_count": 3,
   "id": "3c7d043a",
   "metadata": {},
   "outputs": [],
   "source": [
    "wordlist=[\"doors\",\"early\",\"pours\"]"
   ]
  },
  {
   "cell_type": "code",
   "execution_count": 4,
   "id": "e6c4d16e",
   "metadata": {},
   "outputs": [
    {
     "name": "stdout",
     "output_type": "stream",
     "text": [
      "early\n"
     ]
    }
   ],
   "source": [
    "#Picks a random word to be guessed from word list\n",
    "targetword=(random.choice(wordlist))\n",
    "print(targetword)"
   ]
  },
  {
   "cell_type": "code",
   "execution_count": 5,
   "id": "fc245b25",
   "metadata": {},
   "outputs": [
    {
     "name": "stdout",
     "output_type": "stream",
     "text": [
      "['e', 'a', 'r', 'l', 'y']\n"
     ]
    }
   ],
   "source": [
    "#Converts word to be guessed into a list\n",
    "targetword_list=(list(targetword))\n",
    "print(targetword_list)"
   ]
  },
  {
   "cell_type": "code",
   "execution_count": 23,
   "id": "88ef526e",
   "metadata": {},
   "outputs": [
    {
     "name": "stdout",
     "output_type": "stream",
     "text": [
      "pools\n"
     ]
    }
   ],
   "source": [
    "#Input for guess word \n",
    "guess=\"pools\"\n",
    "print(guess)"
   ]
  },
  {
   "cell_type": "code",
   "execution_count": 24,
   "id": "f6bade6b",
   "metadata": {},
   "outputs": [
    {
     "name": "stdout",
     "output_type": "stream",
     "text": [
      "['p', 'o', 'o', 'l', 's']\n"
     ]
    }
   ],
   "source": [
    "#Converts guess word to list\n",
    "guess_list=list(guess)\n",
    "print(guess_list)"
   ]
  },
  {
   "cell_type": "code",
   "execution_count": 25,
   "id": "9365f64d",
   "metadata": {},
   "outputs": [],
   "source": [
    "#Creates an ouput list\n",
    "output = [1,2,3,4,5]"
   ]
  },
  {
   "cell_type": "code",
   "execution_count": 26,
   "id": "18beae2f",
   "metadata": {},
   "outputs": [],
   "source": [
    "#Compares targetword_list to guess_list and generates output list\n",
    "i = 0 \n",
    "while i < 5:\n",
    "    if targetword_list[i] == guess_list[i]:\n",
    "        output[i] = emoji.emojize(':green_square:')\n",
    "    elif targetword_list[i] != guess_list[i] and guess_list[i] in targetword_list:\n",
    "        output[i] = emoji.emojize(':yellow_square:')\n",
    "    else:\n",
    "        output[i] = emoji.emojize(':white_large_square:')\n",
    "    i += 1"
   ]
  },
  {
   "cell_type": "code",
   "execution_count": 27,
   "id": "957d7fe0",
   "metadata": {},
   "outputs": [
    {
     "name": "stdout",
     "output_type": "stream",
     "text": [
      "['⬜', '⬜', '⬜', '🟩', '⬜']\n"
     ]
    }
   ],
   "source": [
    "print(output)"
   ]
  },
  {
   "cell_type": "code",
   "execution_count": null,
   "id": "752e1e9c",
   "metadata": {},
   "outputs": [],
   "source": []
  },
  {
   "cell_type": "code",
   "execution_count": null,
   "id": "b21c6dd8",
   "metadata": {},
   "outputs": [],
   "source": []
  }
 ],
 "metadata": {
  "kernelspec": {
   "display_name": "Python 3 (ipykernel)",
   "language": "python",
   "name": "python3"
  },
  "language_info": {
   "codemirror_mode": {
    "name": "ipython",
    "version": 3
   },
   "file_extension": ".py",
   "mimetype": "text/x-python",
   "name": "python",
   "nbconvert_exporter": "python",
   "pygments_lexer": "ipython3",
   "version": "3.9.7"
  }
 },
 "nbformat": 4,
 "nbformat_minor": 5
}
