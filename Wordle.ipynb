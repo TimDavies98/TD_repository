{
 "cells": [
  {
   "cell_type": "code",
   "execution_count": 1,
   "id": "73534d0f",
   "metadata": {},
   "outputs": [],
   "source": [
    "wordlist=[\"Doors\",\"early\",\"pours\"]"
   ]
  },
  {
   "cell_type": "code",
   "execution_count": 2,
   "id": "398b5b8b",
   "metadata": {},
   "outputs": [],
   "source": [
    "import random"
   ]
  },
  {
   "cell_type": "code",
   "execution_count": 3,
   "id": "e6c4d16e",
   "metadata": {},
   "outputs": [
    {
     "name": "stdout",
     "output_type": "stream",
     "text": [
      "early\n"
     ]
    }
   ],
   "source": [
    "#Picks a random word to be guessed from word list\n",
    "targetword=(random.choice(wordlist))\n",
    "print(targetword)"
   ]
  },
  {
   "cell_type": "code",
   "execution_count": 4,
   "id": "fc245b25",
   "metadata": {},
   "outputs": [
    {
     "name": "stdout",
     "output_type": "stream",
     "text": [
      "['e', 'a', 'r', 'l', 'y']\n"
     ]
    }
   ],
   "source": [
    "#Converts word to be guessed into a list\n",
    "targetword_list=(list(targetword))\n",
    "print(targetword_list)"
   ]
  },
  {
   "cell_type": "code",
   "execution_count": 5,
   "id": "88ef526e",
   "metadata": {},
   "outputs": [
    {
     "name": "stdout",
     "output_type": "stream",
     "text": [
      "early\n"
     ]
    }
   ],
   "source": [
    "#Input for guess word \n",
    "guess=\"early\"\n",
    "print(guess)"
   ]
  },
  {
   "cell_type": "code",
   "execution_count": 6,
   "id": "f6bade6b",
   "metadata": {},
   "outputs": [
    {
     "name": "stdout",
     "output_type": "stream",
     "text": [
      "['e', 'a', 'r', 'l', 'y']\n"
     ]
    }
   ],
   "source": [
    "#Converts guess word to list\n",
    "guess_list=list(guess)\n",
    "print(guess_list)"
   ]
  },
  {
   "cell_type": "code",
   "execution_count": 7,
   "id": "18beae2f",
   "metadata": {},
   "outputs": [
    {
     "name": "stdout",
     "output_type": "stream",
     "text": [
      "Position 1: Green\n"
     ]
    }
   ],
   "source": [
    "#Checks first position of guess word and returns an ouput colour\n",
    "if targetword_list[0] == guess_list[0]:\n",
    "    position1=\"Green\"\n",
    "elif targetword_list[1] == guess_list[0]:\n",
    "    position1=\"Yellow\"\n",
    "elif targetword_list[2] == guess_list[0]:\n",
    "    position1=\"Yellow\"\n",
    "elif targetword_list[3] == guess_list[0]:\n",
    "    position1=\"Yellow\"\n",
    "elif targetword_list[4] == guess_list[0]:\n",
    "    position1=\"Yellow\"\n",
    "else:\n",
    "    position1=\"Grey\"\n",
    "print(\"Position 1: \" + position1)"
   ]
  },
  {
   "cell_type": "code",
   "execution_count": 8,
   "id": "709b49e4",
   "metadata": {},
   "outputs": [
    {
     "name": "stdout",
     "output_type": "stream",
     "text": [
      "Position 2: Green\n"
     ]
    }
   ],
   "source": [
    "#Checks second position of guess word and returns an ouput colour\n",
    "if targetword_list[1] == guess_list[1]:\n",
    "    position2=\"Green\"\n",
    "elif targetword_list[0] == guess_list[1]:\n",
    "    position2=\"Yellow\"\n",
    "elif targetword_list[2] == guess_list[1]:\n",
    "    position2=\"Yellow\"\n",
    "elif targetword_list[3] == guess_list[1]:\n",
    "    position2=\"Yellow\"\n",
    "elif targetword_list[4] == guess_list[1]:\n",
    "    position2=\"Yellow\"\n",
    "else:\n",
    "    position2=\"Grey\"\n",
    "print(\"Position 2: \" + position2)"
   ]
  },
  {
   "cell_type": "code",
   "execution_count": 9,
   "id": "06b437c3",
   "metadata": {},
   "outputs": [
    {
     "name": "stdout",
     "output_type": "stream",
     "text": [
      "Position 3: Green\n"
     ]
    }
   ],
   "source": [
    "#Checks third position of guess word and returns an ouput colour\n",
    "if targetword_list[2] == guess_list[2]:\n",
    "    position3=\"Green\"\n",
    "elif targetword_list[0] == guess_list[2]:\n",
    "    position3=\"Yellow\"\n",
    "elif targetword_list[1] == guess_list[2]:\n",
    "    position3=\"Yellow\"\n",
    "elif targetword_list[3] == guess_list[2]:\n",
    "    position3=\"Yellow\"\n",
    "elif targetword_list[4] == guess_list[2]:\n",
    "    position3=\"Yellow\"\n",
    "else:\n",
    "    position3=\"Grey\"\n",
    "print(\"Position 3: \" + position3)"
   ]
  },
  {
   "cell_type": "code",
   "execution_count": 10,
   "id": "7948c023",
   "metadata": {},
   "outputs": [
    {
     "name": "stdout",
     "output_type": "stream",
     "text": [
      "Position 4: Green\n"
     ]
    }
   ],
   "source": [
    "#Checks fourth position of guess word and returns an ouput colour\n",
    "if targetword_list[3] == guess_list[3]:\n",
    "    position4=\"Green\"\n",
    "elif targetword_list[0] == guess_list[3]:\n",
    "    position4=\"Yellow\"\n",
    "elif targetword_list[1] == guess_list[3]:\n",
    "    position4=\"Yellow\"\n",
    "elif targetword_list[2] == guess_list[3]:\n",
    "    position4=\"Yellow\"\n",
    "elif targetword_list[4] == guess_list[3]:\n",
    "    position4=\"Yellow\"\n",
    "else:\n",
    "    position4=\"Grey\"\n",
    "print(\"Position 4: \" + position4)"
   ]
  },
  {
   "cell_type": "code",
   "execution_count": 11,
   "id": "598bd1a7",
   "metadata": {},
   "outputs": [
    {
     "name": "stdout",
     "output_type": "stream",
     "text": [
      "Position 5: Green\n"
     ]
    }
   ],
   "source": [
    "#Checks fifth position of guess word and returns an ouput colour\n",
    "if targetword_list[4] == guess_list[4]:\n",
    "    position5=\"Green\"\n",
    "elif targetword_list[0] == guess_list[4]:\n",
    "    position5=\"Yellow\"\n",
    "elif targetword_list[1] == guess_list[4]:\n",
    "    position5=\"Yellow\"\n",
    "elif targetword_list[2] == guess_list[4]:\n",
    "    position5=\"Yellow\"\n",
    "elif targetword_list[3] == guess_list[4]:\n",
    "    position5=\"Yellow\"\n",
    "else:\n",
    "    position5=\"Grey\"\n",
    "print(\"Position 5: \" + position5)"
   ]
  },
  {
   "cell_type": "code",
   "execution_count": 12,
   "id": "957d7fe0",
   "metadata": {},
   "outputs": [
    {
     "name": "stdout",
     "output_type": "stream",
     "text": [
      "Position 1: Green\n",
      "Position 2: Green\n",
      "Position 3: Green\n",
      "Position 4: Green\n",
      "Position 5: Green\n"
     ]
    }
   ],
   "source": [
    "print(\"Position 1: \" + position1)\n",
    "print(\"Position 2: \" + position2)\n",
    "print(\"Position 3: \" + position3)\n",
    "print(\"Position 4: \" + position4)\n",
    "print(\"Position 5: \" + position5)"
   ]
  },
  {
   "cell_type": "code",
   "execution_count": null,
   "id": "e32a5052",
   "metadata": {},
   "outputs": [],
   "source": []
  },
  {
   "cell_type": "code",
   "execution_count": null,
   "id": "d1010e5b",
   "metadata": {},
   "outputs": [],
   "source": []
  }
 ],
 "metadata": {
  "kernelspec": {
   "display_name": "Python 3 (ipykernel)",
   "language": "python",
   "name": "python3"
  },
  "language_info": {
   "codemirror_mode": {
    "name": "ipython",
    "version": 3
   },
   "file_extension": ".py",
   "mimetype": "text/x-python",
   "name": "python",
   "nbconvert_exporter": "python",
   "pygments_lexer": "ipython3",
   "version": "3.9.7"
  }
 },
 "nbformat": 4,
 "nbformat_minor": 5
}
